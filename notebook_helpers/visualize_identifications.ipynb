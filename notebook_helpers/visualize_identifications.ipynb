{
 "cells": [
  {
   "cell_type": "code",
   "execution_count": 4,
   "metadata": {},
   "outputs": [],
   "source": [
    "import pandas as pd\n",
    "import spectrum_utils.spectrum as sus\n",
    "import spectrum_utils.plot as sup\n",
    "import matplotlib.pyplot as plt\n",
    "from pyteomics import mgf"
   ]
  },
  {
   "cell_type": "code",
   "execution_count": 15,
   "metadata": {},
   "outputs": [
    {
     "name": "stdout",
     "output_type": "stream",
     "text": [
      "      ScanNr                                        filename  \\\n",
      "0  1685260.0   part_6635.193557739258_7298.712913513184.mzml   \n",
      "1  1405929.0   part_5971.674201965332_6635.193557739258.mzml   \n",
      "2  1778537.0   part_6635.193557739258_7298.712913513184.mzml   \n",
      "3  1072846.0  part_4644.6354904174805_5308.154846191406.mzml   \n",
      "4  1639384.0   part_6635.193557739258_7298.712913513184.mzml   \n",
      "\n",
      "                                             Peptide    ExpMass   CalcMass  \\\n",
      "0             LLPHIPADQFPAQALAC[Carbamidomethyl]ELYK  2392.8170  2394.2405   \n",
      "1  TLC[Carbamidomethyl]VVQEGFPTYGGLEGGAM[Oxidatio...  2392.8170  2386.0935   \n",
      "2                                  ELLSQYDFPGDDTPIVR  1963.3787  1963.9528   \n",
      "3                                    NIFGYQYTIPTHQGR  1795.3022  1793.8850   \n",
      "4                                       GAEQIYIPVLIK  1347.0984  1342.7860   \n",
      "\n",
      "   Label                                             SpecId  mokapot score  \\\n",
      "0   True  1685260|part_6635.193557739258_7298.7129135131...      25.090068   \n",
      "1   True  1405929|part_5971.674201965332_6635.1935577392...      23.718159   \n",
      "2   True  1778537|part_6635.193557739258_7298.7129135131...      19.277831   \n",
      "3   True  1072846|part_4644.6354904174805_5308.154846191...      18.087628   \n",
      "4   True  1639384|part_6635.193557739258_7298.7129135131...      17.822726   \n",
      "\n",
      "   mokapot q-value   mokapot PEP  \\\n",
      "0         0.000577  1.302875e-69   \n",
      "1         0.000577  6.734054e-66   \n",
      "2         0.000577  7.030738e-54   \n",
      "3         0.000577  1.170978e-50   \n",
      "4         0.000577  6.103276e-50   \n",
      "\n",
      "                                            Proteins  \n",
      "0                       sp|P0A853|TNAA_ECOLI|366|387  \n",
      "1                       sp|P0A853|TNAA_ECOLI|295|317  \n",
      "2  sp|P0CE47|EFTU1_ECOLI|155|172;sp|P0CE48|EFTU2_...  \n",
      "3                        sp|P0A853|TNAA_ECOLI|88|103  \n",
      "4                       sp|P0A853|TNAA_ECOLI|103|115  \n"
     ]
    }
   ],
   "source": [
    "# Load mokapot output\n",
    "file_path = \"../mokapot.psms.txt\"\n",
    "df = pd.read_csv(file_path, sep=\"\\t\")\n",
    "\n",
    "# Display the first few rows\n",
    "print(df.head())\n",
    "\n",
    "# Select a peptide identification for analysis\n",
    "peptide_row = df.iloc[0]  # Change index as needed\n",
    "\n",
    "# Extract key information\n",
    "scan_nr = peptide_row[\"SpecId\"].split(\"|\")[2].split(\"scan=\")[1]\n",
    "filename = peptide_row[\"filename\"]\n",
    "peptide_sequence = peptide_row[\"Peptide\"]\n",
    "exp_mass = peptide_row[\"ExpMass\"]\n",
    "calc_mass = peptide_row[\"CalcMass\"]"
   ]
  },
  {
   "cell_type": "code",
   "execution_count": 9,
   "metadata": {},
   "outputs": [
    {
     "name": "stdout",
     "output_type": "stream",
     "text": [
      "Analyzing Peptide: LLPHIPADQFPAQALAC[Carbamidomethyl]ELYK (Exp: 2392.817, Calc: 2394.2405)\n"
     ]
    }
   ],
   "source": [
    "print(f\"Analyzing Peptide: {peptide_sequence} (Exp: {exp_mass}, Calc: {calc_mass})\")\n",
    "\n",
    "# Load MGF file (change filename to match your dataset)\n",
    "mgf_file = f\"../LFQ_Orbitrap_AIF_Ecoli_01.mgf\"  # Ensure correct MGF path\n",
    "spectra = list(mgf.read(mgf_file))"
   ]
  },
  {
   "cell_type": "code",
   "execution_count": 32,
   "metadata": {},
   "outputs": [
    {
     "name": "stdout",
     "output_type": "stream",
     "text": [
      "372061\n"
     ]
    },
    {
     "data": {
      "image/png": "[encoded data removed]",
      "text/plain": [
       "<Figure size 640x480 with 1 Axes>"
      ]
     },
     "metadata": {},
     "output_type": "display_data"
    }
   ],
   "source": [
    "# Find the spectrum for the scan number\n",
    "spectrum = None\n",
    "print(scan_nr)\n",
    "for spec in spectra:\n",
    "    if str(scan_nr) in spec[\"params\"][\"title\"].split(\"scan=\")[1]:  # Check scan number match\n",
    "        \n",
    "        spectrum = spec\n",
    "        break\n",
    "\n",
    "if spectrum:\n",
    "    # Convert to spectrum_utils format\n",
    "    spec = sus.MsmsSpectrum(\n",
    "        spectrum[\"params\"][\"title\"],\n",
    "        spectrum[\"params\"][\"pepmass\"][0],  # Precursor mass\n",
    "        2, #int(spectrum[\"params\"][\"charge\"][0]),  # Charge state\n",
    "        spectrum[\"m/z array\"],  # m/z values\n",
    "        spectrum[\"intensity array\"],  # Intensities\n",
    "    )\n",
    "\n",
    "    # Annotate the spectrum with the peptide sequence\n",
    "    spec.annotate_proforma(\n",
    "        peptide_sequence,\n",
    "        fragment_tol_mass=20,\n",
    "        fragment_tol_mode=\"ppm\",\n",
    "        ion_types=\"abcxyzImpr\",\n",
    "    )\n",
    "\n",
    "    # Plot the spectrum\n",
    "    sup.spectrum(spec)\n",
    "    plt.show()\n",
    "else:\n",
    "    print(f\"No spectrum found for scan {scan_nr}\")"
   ]
  },
  {
   "cell_type": "code",
   "execution_count": null,
   "metadata": {},
   "outputs": [],
   "source": [
    "import pandas as pd\n",
    "import spectrum_utils.spectrum as sus\n",
    "import spectrum_utils.plot as sup\n",
    "import matplotlib.pyplot as plt\n",
    "from pyteomics import mgf\n",
    "import random\n",
    "\n",
    "# Load mokapot output\n",
    "file_path = \"../mokapot.psms.txt\"\n",
    "df = pd.read_csv(file_path, sep=\"\\t\")\n",
    "\n",
    "# Identify scan numbers that appear multiple times\n",
    "duplicated_scans = df[df.duplicated(subset=[\"ScanNr\"], keep=False)]\n",
    "\n",
    "# Group by scan number\n",
    "grouped_scans = duplicated_scans.groupby(\"ScanNr\")\n",
    "\n",
    "# Randomly sample a few scan numbers with multiple identifications\n",
    "sampled_scans = random.sample(\n",
    "    list(grouped_scans.groups.keys()), min(5, len(grouped_scans))\n",
    ")\n",
    "\n",
    "# Path to MGF file (ensure correct location)\n",
    "mgf_file = \"../LFQ_Orbitrap_AIF_Ecoli_01.mgf\"\n",
    "spectra = list(mgf.read(mgf_file))\n",
    "\n",
    "# Process and plot multiple peptides for each sampled scan\n",
    "for scan_nr in sampled_scans:\n",
    "    scan_group = grouped_scans.get_group(scan_nr)  # Get all peptides for this scan\n",
    "\n",
    "    # Find the spectrum in MGF file\n",
    "    spectrum = None\n",
    "    for spec in spectra:\n",
    "        if str(scan_nr) in spec[\"params\"][\"title\"].split(\"scan=\")[1]:\n",
    "            spectrum = spec\n",
    "            break\n",
    "\n",
    "    if spectrum:\n",
    "        # Convert to spectrum_utils format\n",
    "        spec = sus.MsmsSpectrum(\n",
    "            spectrum[\"params\"][\"title\"],\n",
    "            spectrum[\"params\"][\"pepmass\"][0],  # Precursor mass\n",
    "            2,  # Charge state (assumed default)\n",
    "            spectrum[\"m/z array\"],  # m/z values\n",
    "            spectrum[\"intensity array\"],  # Intensities\n",
    "        )\n",
    "\n",
    "        # Plot each peptide annotation for the same spectrum\n",
    "        for _, row in scan_group.iterrows():\n",
    "            peptide_sequence = row[\"Peptide\"]\n",
    "\n",
    "            # Annotate with different peptide sequences\n",
    "            annotated_spec = spec.copy()  # Make a copy for each peptide\n",
    "            annotated_spec.annotate_proforma(\n",
    "                peptide_sequence,\n",
    "                fragment_tol_mass=20,\n",
    "                fragment_tol_mode=\"ppm\",\n",
    "                ion_types=\"abcxyzImpr\",\n",
    "            )\n",
    "\n",
    "            # Plot the spectrum with current peptide annotation\n",
    "            plt.figure(figsize=(8, 6))\n",
    "            sup.spectrum(annotated_spec)\n",
    "            plt.title(f\"Scan {scan_nr} - Peptide: {peptide_sequence}\")\n",
    "            plt.show()\n",
    "\n",
    "    else:\n",
    "        print(f\"No spectrum found for scan {scan_nr}\")"
   ]
  },
  {
   "cell_type": "code",
   "execution_count": null,
   "metadata": {},
   "outputs": [],
   "source": []
  }
 ],
 "metadata": {
  "kernelspec": {
   "display_name": "py311",
   "language": "python",
   "name": "python3"
  },
  "language_info": {
   "codemirror_mode": {
    "name": "ipython",
    "version": 3
   },
   "file_extension": ".py",
   "mimetype": "text/x-python",
   "name": "python",
   "nbconvert_exporter": "python",
   "pygments_lexer": "ipython3",
   "version": "3.11.8"
  }
 },
 "nbformat": 4,
 "nbformat_minor": 2
}
