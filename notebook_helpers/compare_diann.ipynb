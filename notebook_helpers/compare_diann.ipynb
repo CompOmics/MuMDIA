{
 "cells": [
  {
   "cell_type": "code",
   "execution_count": 60,
   "metadata": {},
   "outputs": [],
   "source": [
    "import pandas as pd\n",
    "import pickle\n",
    "import numpy as np\n",
    "import os\n",
    "import sys\n",
    "import argparse\n",
    "import matplotlib.pyplot as plt\n",
    "from sklearn.metrics import roc_curve, auc\n",
    "from sklearn.metrics import precision_recall_curve\n",
    "from sklearn.metrics import average_precision_score\n",
    "from sklearn.metrics import roc_auc_score\n",
    "from sklearn.metrics import confusion_matrix"
   ]
  },
  {
   "cell_type": "code",
   "execution_count": 91,
   "metadata": {},
   "outputs": [],
   "source": [
    "df_diann = pd.read_csv(\"report.pr_matrix.tsv\",sep=\"\\t\")"
   ]
  },
  {
   "cell_type": "code",
   "execution_count": 92,
   "metadata": {},
   "outputs": [],
   "source": [
    "df_diann[\"Stripped.Sequence|Precursor.Charge\"] = (\n",
    "    df_diann[\"Stripped.Sequence\"]\n",
    "    + \"|\"\n",
    "    + pd.Series(map(str, df_diann[\"Precursor.Charge\"]))\n",
    ")"
   ]
  },
  {
   "cell_type": "code",
   "execution_count": 93,
   "metadata": {},
   "outputs": [],
   "source": [
    "df_mumdia = pd.read_csv(\"mokapot.psms.txt\",sep=\"\\t\")\n",
    "df_mumdia[\"stripped_peptide\"] = df_mumdia[\"Peptide\"].str.replace(\n",
    "    r\"\\[.*?\\]\", \"\", regex=True\n",
    ")\n",
    "\n",
    "df_mumdia_filtered = df_mumdia[df_mumdia[\"mokapot q-value\"] < 0.01]"
   ]
  },
  {
   "cell_type": "code",
   "execution_count": 94,
   "metadata": {},
   "outputs": [],
   "source": [
    "df_mumdia_pin = pd.read_csv(\"outfile.pin\", sep=\"\\t\")\n",
    "df_mumdia_pin[\"stripped_peptide\"] = df_mumdia_pin[\"Peptide\"].str.replace(\n",
    "    r\"\\[.*?\\]\", \"\", regex=True\n",
    ")"
   ]
  },
  {
   "cell_type": "code",
   "execution_count": 95,
   "metadata": {},
   "outputs": [],
   "source": [
    "df_mumdia_pin_broad = pd.read_csv(\"outfile_broad.pin\", sep=\"\\t\")\n",
    "df_mumdia_pin_broad[\"stripped_peptide\"] = df_mumdia_pin_broad[\"Peptide\"].str.replace(\n",
    "    r\"\\[.*?\\]\", \"\", regex=True\n",
    ")"
   ]
  },
  {
   "cell_type": "code",
   "execution_count": 97,
   "metadata": {},
   "outputs": [],
   "source": [
    "df_basic_search = pd.read_csv(\n",
    "    \"/home/robbin/MuMDIA_gh/MuMDIA/results/df_fragment_max_peptide_initial_search.tsv\",\n",
    "    sep=\"\\t\",\n",
    ")\n",
    "df_basic_search[\"stripped_peptide\"] = df_basic_search[\"peptide\"].str.replace(\n",
    "    r\"\\[.*?\\]\", \"\", regex=True\n",
    ")"
   ]
  },
  {
   "cell_type": "code",
   "execution_count": 100,
   "metadata": {},
   "outputs": [],
   "source": [
    "df_first_search = pd.read_csv(\n",
    "    \"/home/robbin/MuMDIA_gh/MuMDIA/results/df_fragment_max_peptide.tsv\",\n",
    "    sep=\"\\t\",\n",
    ")\n",
    "\n",
    "df_first_search[\"stripped_peptide\"] = df_first_search[\"peptide\"].str.replace(\n",
    "    r\"\\[.*?\\]\", \"\", regex=True\n",
    ")"
   ]
  },
  {
   "cell_type": "code",
   "execution_count": 101,
   "metadata": {},
   "outputs": [],
   "source": [
    "overlapping_qval_filter = len(\n",
    "    set(df_mumdia_filtered[\"stripped_peptide\"]).intersection(\n",
    "        set(df_diann[\"Stripped.Sequence\"])\n",
    "    )\n",
    ")\n",
    "\n",
    "overlapping = len(\n",
    "    set(df_mumdia[\"stripped_peptide\"]).intersection(set(df_diann[\"Stripped.Sequence\"]))\n",
    ")\n",
    "\n",
    "overlapping_pin = len(\n",
    "    set(df_mumdia_pin[\"stripped_peptide\"]).intersection(set(df_diann[\"Stripped.Sequence\"]))\n",
    ")\n",
    "\n",
    "overlapping_pin_broad = len(\n",
    "    set(df_mumdia_pin_broad[\"stripped_peptide\"]).intersection(set(df_diann[\"Stripped.Sequence\"]))\n",
    ")\n",
    "\n",
    "overlapping_basic_search = len(\n",
    "    set(df_basic_search[\"stripped_peptide\"]).intersection(set(df_diann[\"Stripped.Sequence\"]))\n",
    ")\n",
    "\n",
    "overlapping_first_search = len(\n",
    "    set(df_first_search[\"stripped_peptide\"]).intersection(set(df_diann[\"Stripped.Sequence\"]))\n",
    ")\n",
    "\n",
    "number_of_peptides_pin = len(set(df_mumdia_pin[\"stripped_peptide\"]))\n",
    "number_of_peptides_diann = len(set(df_diann[\"Stripped.Sequence\"]))\n",
    "number_of_peptides_mumdia = len(set(df_mumdia[\"stripped_peptide\"]))\n",
    "number_of_peptides_mumdia_filtered = len(set(df_mumdia_filtered[\"stripped_peptide\"]))\n",
    "number_of_peptides_pin_broad = len(set(df_mumdia_pin_broad[\"stripped_peptide\"]))\n",
    "number_of_peptides_basic_search = len(set(df_basic_search[\"stripped_peptide\"]))\n",
    "number_of_peptides_first_search = len(set(df_first_search[\"stripped_peptide\"]))"
   ]
  },
  {
   "cell_type": "code",
   "execution_count": null,
   "metadata": {},
   "outputs": [],
   "source": []
  },
  {
   "cell_type": "code",
   "execution_count": 104,
   "metadata": {},
   "outputs": [
    {
     "name": "stdout",
     "output_type": "stream",
     "text": [
      "Total number of peptides in Diann:  11657\n",
      "Total number of peptides in MumDIA:  36931\n",
      "Total number of peptides in MumDIA (qval < 0.01):  5787\n",
      "Total number of peptides in MumDIA (PIN):  66563\n",
      "Total number of peptides in MumDIA (PIN broad):  232542\n",
      "Total number of peptides in Basic search:  4647\n",
      "Total number of peptides in First search:  300240\n",
      "\n",
      "Number of overlapping peptides (Basic search):  4541\n",
      "Number of overlapping peptides (First search):  10255\n",
      "Number of overlapping peptides (PIN):  7666\n",
      "Number of overlapping peptides (PIN broad):  9800\n",
      "Number of overlapping peptides:  7666\n",
      "Number of overlapping peptides (qval < 0.01):  5509\n"
     ]
    }
   ],
   "source": [
    "print(\"Total number of peptides in Diann: \", number_of_peptides_diann)\n",
    "print(\"Total number of peptides in MumDIA: \", number_of_peptides_mumdia)\n",
    "print(\"Total number of peptides in MumDIA (qval < 0.01): \", number_of_peptides_mumdia_filtered)\n",
    "print(\"Total number of peptides in MumDIA (PIN): \", number_of_peptides_pin)\n",
    "print(\"Total number of peptides in MumDIA (PIN broad): \", number_of_peptides_pin_broad)\n",
    "print(\"Total number of peptides in Basic search: \", number_of_peptides_basic_search)\n",
    "print(\"Total number of peptides in First search: \", number_of_peptides_first_search)\n",
    "print()\n",
    "print(\"Number of overlapping peptides (Basic search): \", overlapping_basic_search)\n",
    "print(\"Number of overlapping peptides (First search): \", overlapping_first_search)\n",
    "print(\"Number of overlapping peptides (PIN): \", overlapping_pin)\n",
    "print(\"Number of overlapping peptides (PIN broad): \", overlapping_pin_broad)\n",
    "print(\"Number of overlapping peptides: \", overlapping)\n",
    "print(\"Number of overlapping peptides (qval < 0.01): \", overlapping_qval_filter)"
   ]
  },
  {
   "cell_type": "code",
   "execution_count": 41,
   "metadata": {},
   "outputs": [],
   "source": []
  }
 ],
 "metadata": {
  "kernelspec": {
   "display_name": "py311",
   "language": "python",
   "name": "python3"
  },
  "language_info": {
   "codemirror_mode": {
    "name": "ipython",
    "version": 3
   },
   "file_extension": ".py",
   "mimetype": "text/x-python",
   "name": "python",
   "nbconvert_exporter": "python",
   "pygments_lexer": "ipython3",
   "version": "3.11.8"
  }
 },
 "nbformat": 4,
 "nbformat_minor": 2
}
