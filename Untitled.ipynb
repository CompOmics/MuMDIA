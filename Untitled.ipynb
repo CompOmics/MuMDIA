{
 "cells": [
  {
   "cell_type": "code",
   "execution_count": 3,
   "id": "736ddf05-8e96-417c-b679-529a157492ac",
   "metadata": {},
   "outputs": [],
   "source": [
    "import pandas as pd\n",
    "from matplotlib import pyplot as plt"
   ]
  },
  {
   "cell_type": "code",
   "execution_count": 2,
   "id": "cb88304e-f9a6-4c9d-b2fe-51e4157c5bdc",
   "metadata": {},
   "outputs": [],
   "source": [
    "df = pd.read_csv(\"outfile.pin\",sep=\"\\t\")"
   ]
  },
  {
   "cell_type": "code",
   "execution_count": 12,
   "id": "07e70316-5a74-46d6-a813-7e48aae70439",
   "metadata": {},
   "outputs": [
    {
     "data": {
      "text/plain": [
       "(array([  8.,  10.,   7.,   9.,   9.,  10.,  14.,  21.,  10.,  22.,  25.,\n",
       "         29.,  24.,  27.,  22.,  45.,  31.,  50.,  47.,  59.,  62.,  63.,\n",
       "         81., 110.,  93., 111.,  92., 131., 128., 158., 142., 207., 157.,\n",
       "        215., 190., 196., 176., 215., 216., 188., 227., 195., 234., 220.,\n",
       "        176., 205., 207., 190., 170., 167., 224., 206., 222., 228., 194.,\n",
       "        213., 199., 188., 195., 199., 192., 218., 222., 215., 195., 188.,\n",
       "        202., 152., 212., 191., 213., 206., 196., 222., 210., 221., 191.,\n",
       "        215., 208., 226., 245., 196., 217., 230., 256., 177., 199., 226.,\n",
       "        161., 175., 256., 194., 267., 178., 178., 190., 173., 196., 160.,\n",
       "        114.]),\n",
       " array([-9.99997736e-01, -9.80007294e-01, -9.60016852e-01, -9.40026410e-01,\n",
       "        -9.20035968e-01, -9.00045526e-01, -8.80055085e-01, -8.60064643e-01,\n",
       "        -8.40074201e-01, -8.20083759e-01, -8.00093317e-01, -7.80102875e-01,\n",
       "        -7.60112433e-01, -7.40121992e-01, -7.20131550e-01, -7.00141108e-01,\n",
       "        -6.80150666e-01, -6.60160224e-01, -6.40169782e-01, -6.20179340e-01,\n",
       "        -6.00188899e-01, -5.80198457e-01, -5.60208015e-01, -5.40217573e-01,\n",
       "        -5.20227131e-01, -5.00236689e-01, -4.80246247e-01, -4.60255806e-01,\n",
       "        -4.40265364e-01, -4.20274922e-01, -4.00284480e-01, -3.80294038e-01,\n",
       "        -3.60303596e-01, -3.40313154e-01, -3.20322713e-01, -3.00332271e-01,\n",
       "        -2.80341829e-01, -2.60351387e-01, -2.40360945e-01, -2.20370503e-01,\n",
       "        -2.00380061e-01, -1.80389620e-01, -1.60399178e-01, -1.40408736e-01,\n",
       "        -1.20418294e-01, -1.00427852e-01, -8.04374102e-02, -6.04469684e-02,\n",
       "        -4.04565265e-02, -2.04660847e-02, -4.75642796e-04,  1.95147991e-02,\n",
       "         3.95052409e-02,  5.94956828e-02,  7.94861246e-02,  9.94765665e-02,\n",
       "         1.19467008e-01,  1.39457450e-01,  1.59447892e-01,  1.79438334e-01,\n",
       "         1.99428776e-01,  2.19419218e-01,  2.39409659e-01,  2.59400101e-01,\n",
       "         2.79390543e-01,  2.99380985e-01,  3.19371427e-01,  3.39361869e-01,\n",
       "         3.59352311e-01,  3.79342752e-01,  3.99333194e-01,  4.19323636e-01,\n",
       "         4.39314078e-01,  4.59304520e-01,  4.79294962e-01,  4.99285404e-01,\n",
       "         5.19275845e-01,  5.39266287e-01,  5.59256729e-01,  5.79247171e-01,\n",
       "         5.99237613e-01,  6.19228055e-01,  6.39218497e-01,  6.59208938e-01,\n",
       "         6.79199380e-01,  6.99189822e-01,  7.19180264e-01,  7.39170706e-01,\n",
       "         7.59161148e-01,  7.79151590e-01,  7.99142032e-01,  8.19132473e-01,\n",
       "         8.39122915e-01,  8.59113357e-01,  8.79103799e-01,  8.99094241e-01,\n",
       "         9.19084683e-01,  9.39075125e-01,  9.59065566e-01,  9.79056008e-01,\n",
       "         9.99046450e-01]),\n",
       " <BarContainer object of 100 artists>)"
      ]
     },
     "execution_count": 12,
     "metadata": {},
     "output_type": "execute_result"
    },
    {
     "data": {
      "image/png": "[encoded data removed]",
      "text/plain": [
       "<Figure size 640x480 with 1 Axes>"
      ]
     },
     "metadata": {},
     "output_type": "display_data"
    }
   ],
   "source": [
    "#plt.hist(df[(df[\"Label\"] == 1.0) & (df[\"rank\"] == 1)][\"correlation_max\"],bins=100)\n",
    "plt.hist(df[(df[\"Label\"] == -1.0) & (df[\"rank\"] == 1)][\"correlation_max\"],bins=100)\n"
   ]
  },
  {
   "cell_type": "code",
   "execution_count": 6,
   "id": "5861535f-d253-45ce-8a39-55fa9ff2d2ea",
   "metadata": {},
   "outputs": [
    {
     "data": {
      "text/plain": [
       "Index(['SpecId', 'Label', 'ExpMass', 'CalcMass', 'Peptide', 'ScanNr',\n",
       "       'num_proteins', 'rank', 'charge', 'peptide_len', 'correlation_max',\n",
       "       'correlation_min', 'correlation_median', 'correlation_mean',\n",
       "       'missed_cleavages', 'isotope_error', 'precursor_ppm', 'fragment_ppm',\n",
       "       'hyperscore', 'delta_next', 'delta_best', 'rt', 'aligned_rt',\n",
       "       'predicted_rt', 'delta_rt_model', 'matched_peaks', 'longest_b',\n",
       "       'longest_y', 'longest_y_pct', 'matched_intensity_pct',\n",
       "       'scored_candidates', 'poisson', 'sage_discriminant_score',\n",
       "       'posterior_error', 'spectrum_q', 'peptide_q', 'protein_q',\n",
       "       'reporter_ion_intensity', 'fragment_intensity', 'rt_right',\n",
       "       'predictions', 'Proteins'],\n",
       "      dtype='object')"
      ]
     },
     "execution_count": 6,
     "metadata": {},
     "output_type": "execute_result"
    }
   ],
   "source": [
    "df.columns"
   ]
  },
  {
   "cell_type": "code",
   "execution_count": null,
   "id": "eb1f52e6-9040-456d-a43f-ad0ac001f49f",
   "metadata": {},
   "outputs": [],
   "source": []
  }
 ],
 "metadata": {
  "kernelspec": {
   "display_name": "Python 3 (ipykernel)",
   "language": "python",
   "name": "python3"
  },
  "language_info": {
   "codemirror_mode": {
    "name": "ipython",
    "version": 3
   },
   "file_extension": ".py",
   "mimetype": "text/x-python",
   "name": "python",
   "nbconvert_exporter": "python",
   "pygments_lexer": "ipython3",
   "version": "3.10.12"
  }
 },
 "nbformat": 4,
 "nbformat_minor": 5
}
