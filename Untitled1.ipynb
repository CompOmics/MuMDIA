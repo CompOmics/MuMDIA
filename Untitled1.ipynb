{
 "cells": [
  {
   "cell_type": "code",
   "execution_count": 2,
   "id": "2f9c26cf-1c6c-48f4-88f0-3493796cea71",
   "metadata": {},
   "outputs": [],
   "source": [
    "from pyopenms import MSExperiment, MzMLFile\n",
    "\n",
    "def read_mzml(filename):\n",
    "    \"\"\" Read mzML file and return MSExperiment object \"\"\"\n",
    "    exp = MSExperiment()\n",
    "    MzMLFile().load(filename, exp)\n",
    "    return exp\n",
    "\n",
    "def write_mzml(filename, experiment):\n",
    "    \"\"\" Write MSExperiment object to an mzML file \"\"\"\n",
    "    MzMLFile().store(filename, experiment)\n",
    "\n",
    "def split_mzml_by_retention_time(original_file, time_interval=120.0):\n",
    "    \"\"\" Split mzML file into smaller files based on retention time intervals \"\"\"\n",
    "    exp = read_mzml(original_file)\n",
    "    spectra = exp.getSpectra()\n",
    "\n",
    "    start_time = 0\n",
    "    end_time = start_time + time_interval\n",
    "    part = 1\n",
    "    sub_exp = MSExperiment()\n",
    "\n",
    "    for spec in spectra:\n",
    "        if spec.getRT() <= end_time:\n",
    "            sub_exp.addSpectrum(spec)\n",
    "        else:\n",
    "            write_mzml(f\"part_{end_time}.mzml\", sub_exp)\n",
    "            part += 1\n",
    "            start_time = end_time\n",
    "            end_time += time_interval\n",
    "            sub_exp = MSExperiment()\n",
    "            sub_exp.addSpectrum(spec)\n",
    "\n",
    "    if sub_exp.getNrSpectra() > 0:\n",
    "        write_mzml(f\"part_{end_time}.mzml\", sub_exp)\n",
    "\n",
    "# Example usage\n",
    "split_mzml_by_retention_time(\"LFQ_Orbitrap_AIF_Ecoli_01.mzML\")\n"
   ]
  },
  {
   "cell_type": "code",
   "execution_count": null,
   "id": "15b5cf18-9ecb-4ba8-96ca-851e188d9418",
   "metadata": {},
   "outputs": [],
   "source": []
  }
 ],
 "metadata": {
  "kernelspec": {
   "display_name": "Python 3 (ipykernel)",
   "language": "python",
   "name": "python3"
  },
  "language_info": {
   "codemirror_mode": {
    "name": "ipython",
    "version": 3
   },
   "file_extension": ".py",
   "mimetype": "text/x-python",
   "name": "python",
   "nbconvert_exporter": "python",
   "pygments_lexer": "ipython3",
   "version": "3.10.12"
  }
 },
 "nbformat": 4,
 "nbformat_minor": 5
}
